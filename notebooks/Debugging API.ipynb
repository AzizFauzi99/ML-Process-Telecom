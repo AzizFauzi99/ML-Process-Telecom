{
 "cells": [
  {
   "cell_type": "code",
   "execution_count": 2,
   "id": "bc43b863",
   "metadata": {},
   "outputs": [],
   "source": [
    "import pandas as pd"
   ]
  },
  {
   "cell_type": "code",
   "execution_count": null,
   "id": "95d1f43a",
   "metadata": {},
   "outputs": [],
   "source": [
    "config_data = util.load_config()\n",
    "ohe_ContractRenewal = util.pickle_load(config_data[\"ohe_ContractRenewal_path\"])\n",
    "ohe_DataPlan = util.pickle_load(config_data[\"ohe_DataPlan_path\"])\n",
    "le_encoder = util.pickle_load(config_data[\"le_encoder_path\"])\n",
    "model_data = util.pickle_load(config_data[\"production_model_path\"])"
   ]
  },
  {
   "cell_type": "code",
   "execution_count": 20,
   "id": "5ac1b63a",
   "metadata": {},
   "outputs": [],
   "source": [
    "class api_data(BaseModel):\n",
    "    AccountWeeks : int   \n",
    "    ContractRenewal : str\n",
    "    DataPlan : str\n",
    "    DataUsage : float\n",
    "    CustServCalls : int\n",
    "    DayMins : float\n",
    "    DayCalls : int\n",
    "    MonthlyCharge : float\n",
    "    OverageFee : float\n",
    "    RoamMins : float"
   ]
  },
  {
   "cell_type": "code",
   "execution_count": 21,
   "id": "11c30bb5",
   "metadata": {},
   "outputs": [],
   "source": [
    "app = FastAPI()"
   ]
  },
  {
   "cell_type": "code",
   "execution_count": 22,
   "id": "47624e8a",
   "metadata": {},
   "outputs": [],
   "source": [
    "@app.get(\"/\")\n",
    "def home():\n",
    "    return \"Hello, FastAPI up!\""
   ]
  },
  {
   "cell_type": "code",
   "execution_count": null,
   "id": "4e43c599",
   "metadata": {},
   "outputs": [],
   "source": []
  },
  {
   "cell_type": "code",
   "execution_count": 27,
   "id": "164bb95e",
   "metadata": {},
   "outputs": [],
   "source": [
    "def predict(data: api_data):    \n",
    "    # Convert data api to dataframe\n",
    "    data = pd.DataFrame(data).set_index(0).T.reset_index(drop = True)\n",
    "\n",
    "    # Convert dtype\n",
    "    data = pd.concat(\n",
    "        [\n",
    "            data[config_data[\"predictors\"][0]],\n",
    "            data[config_data[\"predictors\"][1:]].astype(int)\n",
    "        ],\n",
    "        axis = 1\n",
    "    )\n",
    "\n",
    "    # Check range data\n",
    "    try:\n",
    "        data_pipeline.check_data(data, config_data, True)\n",
    "    except AssertionError as ae:\n",
    "        return {\"res\": [], \"error_msg\": str(ae)}\n",
    "    \n",
    "    # Encoding ContractRenewal\n",
    "    data = preprocessing.ohe_transform_ContractRenewal(data, \"ContractRenewal\", ohe_ContractRenewal)\n",
    "    \n",
    "    #Cek lagi\n",
    "    # Encoding DataPlan\n",
    "    data = preprocessing.ohe_transform_DataPlan(data, \"DataPlan\", ohe_DataPlan)\n",
    "\n",
    "    # Predict data\n",
    "    y_pred = model_data[\"model_data\"][\"model_object\"].predict(data)\n",
    "\n",
    "    # Inverse tranform\n",
    "    y_pred = list(le_encoder.inverse_transform(y_pred))[0] \n",
    "\n",
    "    return {\"res\" : y_pred, \"error_msg\": \"\"}\n"
   ]
  },
  {
   "cell_type": "code",
   "execution_count": null,
   "id": "71e2cc76",
   "metadata": {
    "scrolled": true
   },
   "outputs": [],
   "source": [
    "uvicorn.run(\"api:app\", host = \"0.0.0.0\", port = 8080)"
   ]
  },
  {
   "cell_type": "code",
   "execution_count": null,
   "id": "63862c13",
   "metadata": {},
   "outputs": [],
   "source": [
    "data = pd.DataFrame(data).set_index(0).T.reset_index(drop = True)"
   ]
  },
  {
   "cell_type": "code",
   "execution_count": 31,
   "id": "999f4c45",
   "metadata": {},
   "outputs": [],
   "source": [
    "log = pd.read_json(\"training_log.json\")"
   ]
  },
  {
   "cell_type": "code",
   "execution_count": 33,
   "id": "bde70cc4",
   "metadata": {},
   "outputs": [
    {
     "data": {
      "text/plain": [
       "0     [{'0': {'precision': 0.9384615384615381, 'reca...\n",
       "1     [{'0': {'precision': 0.9384615384615381, 'reca...\n",
       "2     [{'0': {'precision': 0.9384615384615381, 'reca...\n",
       "3     [{'0': {'precision': 0.9019607843137251, 'reca...\n",
       "4     {'0': {'precision': 0.9473684210526311, 'recal...\n",
       "5     {'0': {'precision': 0.9473684210526311, 'recal...\n",
       "6     {'0': {'precision': 0.9473684210526311, 'recal...\n",
       "7     {'0': {'precision': 0.9473684210526311, 'recal...\n",
       "8     {'0': {'precision': 0.9449541284403671, 'recal...\n",
       "9     {'0': {'precision': 0.9449541284403671, 'recal...\n",
       "10    {'0': {'precision': 0.947247706422018, 'recall...\n",
       "11    {'0': {'precision': 0.947247706422018, 'recall...\n",
       "Name: performance, dtype: object"
      ]
     },
     "execution_count": 33,
     "metadata": {},
     "output_type": "execute_result"
    }
   ],
   "source": [
    "log['performance']"
   ]
  },
  {
   "cell_type": "code",
   "execution_count": 27,
   "id": "125d8587",
   "metadata": {},
   "outputs": [
    {
     "data": {
      "text/plain": [
       "[{'0': {'precision': 0.9384615384615381,\n",
       "   'recall': 0.7142857142857141,\n",
       "   'f1-score': 0.811170212765957,\n",
       "   'support': 427},\n",
       "  '1': {'precision': 0.30285714285714205,\n",
       "   'recall': 0.7260273972602741,\n",
       "   'f1-score': 0.427419354838709,\n",
       "   'support': 73},\n",
       "  'accuracy': 0.716,\n",
       "  'macro avg': {'precision': 0.62065934065934,\n",
       "   'recall': 0.7201565557729941,\n",
       "   'f1-score': 0.619294783802333,\n",
       "   'support': 500},\n",
       "  'weighted avg': {'precision': 0.8456632967032961,\n",
       "   'recall': 0.716,\n",
       "   'f1-score': 0.7551425875085791,\n",
       "   'support': 500}},\n",
       " {'0': {'precision': 0.9463276836158191,\n",
       "   'recall': 0.7845433255269321,\n",
       "   'f1-score': 0.8578745198463501,\n",
       "   'support': 427},\n",
       "  '1': {'precision': 0.36986301369863,\n",
       "   'recall': 0.73972602739726,\n",
       "   'f1-score': 0.49315068493150604,\n",
       "   'support': 73},\n",
       "  'accuracy': 0.778,\n",
       "  'macro avg': {'precision': 0.6580953486572241,\n",
       "   'recall': 0.7621346764620961,\n",
       "   'f1-score': 0.6755126023889281,\n",
       "   'support': 500},\n",
       "  'weighted avg': {'precision': 0.8621638418079091,\n",
       "   'recall': 0.778,\n",
       "   'f1-score': 0.8046248399487831,\n",
       "   'support': 500}},\n",
       " {'0': {'precision': 0.9589743589743591,\n",
       "   'recall': 0.8758782201405151,\n",
       "   'f1-score': 0.9155446756425941,\n",
       "   'support': 427},\n",
       "  '1': {'precision': 0.5181818181818181,\n",
       "   'recall': 0.7808219178082191,\n",
       "   'f1-score': 0.6229508196721311,\n",
       "   'support': 73},\n",
       "  'accuracy': 0.862,\n",
       "  'macro avg': {'precision': 0.738578088578088,\n",
       "   'recall': 0.828350068974367,\n",
       "   'f1-score': 0.769247747657363,\n",
       "   'support': 500},\n",
       "  'weighted avg': {'precision': 0.8946186480186481,\n",
       "   'recall': 0.862,\n",
       "   'f1-score': 0.8728259726709071,\n",
       "   'support': 500}},\n",
       " {'0': {'precision': 0.9019607843137251,\n",
       "   'recall': 0.646370023419203,\n",
       "   'f1-score': 0.753069577080491,\n",
       "   'support': 427},\n",
       "  '1': {'precision': 0.22164948453608202,\n",
       "   'recall': 0.5890410958904111,\n",
       "   'f1-score': 0.322097378277153,\n",
       "   'support': 73},\n",
       "  'accuracy': 0.638,\n",
       "  'macro avg': {'precision': 0.5618051344249041,\n",
       "   'recall': 0.617705559654807,\n",
       "   'f1-score': 0.5375834776788221,\n",
       "   'support': 500},\n",
       "  'weighted avg': {'precision': 0.8026353345461891,\n",
       "   'recall': 0.638,\n",
       "   'f1-score': 0.690147636055203,\n",
       "   'support': 500}},\n",
       " {'0': {'precision': 0.9522546419098141,\n",
       "   'recall': 0.840749414519906,\n",
       "   'f1-score': 0.8930348258706461,\n",
       "   'support': 427},\n",
       "  '1': {'precision': 0.44715447154471505,\n",
       "   'recall': 0.753424657534246,\n",
       "   'f1-score': 0.561224489795918,\n",
       "   'support': 73},\n",
       "  'accuracy': 0.8280000000000001,\n",
       "  'macro avg': {'precision': 0.6997045567272641,\n",
       "   'recall': 0.7970870360270761,\n",
       "   'f1-score': 0.7271296578332821,\n",
       "   'support': 500},\n",
       "  'weighted avg': {'precision': 0.8785100170365091,\n",
       "   'recall': 0.8280000000000001,\n",
       "   'f1-score': 0.8445905168037361,\n",
       "   'support': 500}}]"
      ]
     },
     "execution_count": 27,
     "metadata": {},
     "output_type": "execute_result"
    }
   ],
   "source": [
    "log[\"performance\"][0]"
   ]
  },
  {
   "cell_type": "code",
   "execution_count": null,
   "id": "fae41cc6",
   "metadata": {},
   "outputs": [],
   "source": []
  }
 ],
 "metadata": {
  "kernelspec": {
   "display_name": "Python 3.10.4 64-bit",
   "language": "python",
   "name": "python3"
  },
  "language_info": {
   "codemirror_mode": {
    "name": "ipython",
    "version": 3
   },
   "file_extension": ".py",
   "mimetype": "text/x-python",
   "name": "python",
   "nbconvert_exporter": "python",
   "pygments_lexer": "ipython3",
   "version": "3.10.4"
  },
  "vscode": {
   "interpreter": {
    "hash": "e9472f1c349f610ab6352639901ce501e880b7244b6d20939549046f0c16eaec"
   }
  }
 },
 "nbformat": 4,
 "nbformat_minor": 5
}
